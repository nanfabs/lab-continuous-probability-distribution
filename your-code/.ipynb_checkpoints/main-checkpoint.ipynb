{
 "cells": [
  {
   "cell_type": "markdown",
   "metadata": {},
   "source": [
    "# Before your start:\n",
    "\n",
    "    Read the README.md file\n",
    "    Comment as much as you can and use the resources (README.md file)\n",
    "    Happy learning!"
   ]
  },
  {
   "cell_type": "markdown",
   "metadata": {},
   "source": [
    "In this exercise, we  will generate random numbers from the continuous disributions we learned in the lesson. There are two ways to generate random numbers:\n",
    "\n",
    "1. Using the numpy library \n",
    "1. using the Scipy library \n",
    "\n",
    "Use either or both of the lbraries in this exercise."
   ]
  },
  {
   "cell_type": "markdown",
   "metadata": {},
   "source": [
    "## Uniform Distribution\n",
    "\n",
    "To generate uniform random numbers between any two given values using scipy, we can either use the following code or the code that we have\n",
    "discussed in class:"
   ]
  },
  {
   "cell_type": "code",
   "execution_count": 2,
   "metadata": {},
   "outputs": [
    {
     "name": "stdout",
     "output_type": "stream",
     "text": [
      "[2.53030984 2.48174496 2.26273792 2.73539972 2.55847754 2.67751458\n",
      " 2.09631712 2.68225402 2.40934549 2.45030164]\n"
     ]
    }
   ],
   "source": [
    "from scipy.stats import uniform\n",
    "import matplotlib.pyplot as plt\n",
    "import seaborn as sns\n",
    "\n",
    "x = uniform.rvs(size=10)\n",
    "a = 2\n",
    "b = 3\n",
    "randoms  = a + (b-a)*x\n",
    "print(randoms)"
   ]
  },
  {
   "cell_type": "markdown",
   "metadata": {},
   "source": [
    "**Your task:**\n",
    "\n",
    "1. Based on the code above, write a function that generates uniformly distributed random numbers. There are several requirements for your function:\n",
    "    * It should accept 3 parameters: \n",
    "        * `bottom` - the lower boundary of the generated numbers\n",
    "        * `ceiling` - the upper boundary of the generated numbers\n",
    "        * `count` - how many numbers to generate\n",
    "    * It should return an array of uniformly distributed random numbers\n",
    "\n",
    "1. Call your function with 2 sets of params below:\n",
    "    * bottom=10, ceiling=15, count=100\n",
    "    * bottom=10, ceiling=60, count=1,000\n",
    "\n",
    "1. Plot the uniform distributions generated above using histograms, where x axis is the value and y axis is the count. Let the histogram's number of bins be 10.\n",
    "\n",
    "Your output should look like below:\n",
    "\n",
    "![uniform distribution](ud.png)"
   ]
  },
  {
   "cell_type": "code",
   "execution_count": 6,
   "metadata": {},
   "outputs": [
    {
     "data": {
      "text/plain": [
       "(array([104., 108.,  95.,  97., 118.,  91., 111.,  86.,  99.,  91.]),\n",
       " array([10.00981122, 10.50843697, 11.00706272, 11.50568847, 12.00431423,\n",
       "        12.50293998, 13.00156573, 13.50019148, 13.99881723, 14.49744298,\n",
       "        14.99606873]),\n",
       " <a list of 10 Patch objects>)"
      ]
     },
     "execution_count": 6,
     "metadata": {},
     "output_type": "execute_result"
    },
    {
     "data": {
      "image/png": "[encoded data removed]",
      "text/plain": [
       "<Figure size 432x288 with 2 Axes>"
      ]
     },
     "metadata": {
      "needs_background": "light"
     },
     "output_type": "display_data"
    }
   ],
   "source": [
    "# your code here\n",
    "def distributed(bottom,ceiling,count):\n",
    "    bins = uniform.rvs(size=count)\n",
    "    return bottom + (ceiling-bottom) * bins\n",
    "\n",
    "\n",
    "x1 = distributed(10,15,100)\n",
    "x2 = distributed(10,15,1000)\n",
    "\n",
    "\n",
    "f, (ax1, ax2) = plt.subplots(1,2, sharey=True)\n",
    "ax1.hist(x1,bins=10)\n",
    "ax2.hist(x2,bins=10)\n",
    "\n"
   ]
  },
  {
   "cell_type": "markdown",
   "metadata": {},
   "source": [
    "How are the two distributions different?"
   ]
  },
  {
   "cell_type": "markdown",
   "metadata": {},
   "source": [
    "# your answer below\n",
    "\n",
    "Por el número de datos."
   ]
  },
  {
   "cell_type": "markdown",
   "metadata": {},
   "source": [
    "## Normal Distribution\n",
    "\n",
    "1. In the same way in the Uniform Distribution challenge, write a function that generates normally distributed random numbers.\n",
    "1. Generate 1,000 normally distributed numbers with the average of 10 and standard deviation of 1\n",
    "1. Generate 1,000 normally distributed numbers with the average of 10 and standard deviation of 50\n",
    "2. Plot the distributions of the data generated.\n",
    "\n",
    "Expected output:\n",
    "\n",
    "![normal distribution](nd.png)"
   ]
  },
  {
   "cell_type": "code",
   "execution_count": 7,
   "metadata": {},
   "outputs": [
    {
     "data": {
      "text/plain": [
       "(array([  1.,   4.,  35., 109., 271., 277., 203.,  83.,  14.,   3.]),\n",
       " array([-194.03270059, -155.45676126, -116.88082193,  -78.3048826 ,\n",
       "         -39.72894327,   -1.15300394,   37.42293539,   75.99887472,\n",
       "         114.57481405,  153.15075338,  191.72669271]),\n",
       " <a list of 10 Patch objects>)"
      ]
     },
     "execution_count": 7,
     "metadata": {},
     "output_type": "execute_result"
    },
    {
     "data": {
      "image/png": "[encoded data removed]",
      "text/plain": [
       "<Figure size 432x288 with 2 Axes>"
      ]
     },
     "metadata": {
      "needs_background": "light"
     },
     "output_type": "display_data"
    }
   ],
   "source": [
    "# your code here\n",
    "from scipy.stats import norm\n",
    "\n",
    "def aleatorios(media,std,times):\n",
    "    return norm.rvs(media, std, times)\n",
    "\n",
    "x3 = aleatorios(10,1,1000)\n",
    "x4 = aleatorios(10,50,1000)\n",
    "\n",
    "f, (ax3, ax4) = plt.subplots(1,2, sharey=True)\n",
    "ax3.hist(x3,bins=10)\n",
    "ax4.hist(x4,bins=10)\n"
   ]
  },
  {
   "cell_type": "markdown",
   "metadata": {},
   "source": [
    "How are the two distributions different?"
   ]
  },
  {
   "cell_type": "markdown",
   "metadata": {},
   "source": [
    "# your answer below\n",
    "\n",
    "El rango de X y la desviación estandar alteran la distribución de los datos."
   ]
  },
  {
   "cell_type": "markdown",
   "metadata": {},
   "source": [
    "## Normal Distribution of Real Data\n",
    "\n",
    "In this challenge we are going to take a look the real data. We will use vehicles.csv file for this exercise"
   ]
  },
  {
   "cell_type": "markdown",
   "metadata": {},
   "source": [
    "First import vehicles.csv.\n",
    "Then plot the histograms for the following variables:\n",
    "\n",
    "1. Fuel Barrels/Year"
   ]
  },
  {
   "cell_type": "code",
   "execution_count": 9,
   "metadata": {},
   "outputs": [
    {
     "data": {
      "text/plain": [
       "Index(['Make', 'Model', 'Year', 'Engine Displacement', 'Cylinders',\n",
       "       'Transmission', 'Drivetrain', 'Vehicle Class', 'Fuel Type',\n",
       "       'Fuel Barrels/Year', 'City MPG', 'Highway MPG', 'Combined MPG',\n",
       "       'CO2 Emission Grams/Mile', 'Fuel Cost/Year'],\n",
       "      dtype='object')"
      ]
     },
     "execution_count": 9,
     "metadata": {},
     "output_type": "execute_result"
    }
   ],
   "source": [
    "# your code here\n",
    "import pandas as pd\n",
    "vehicles = pd.read_csv('vehicles.csv')\n",
    "vehicles.columns"
   ]
  },
  {
   "cell_type": "markdown",
   "metadata": {},
   "source": [
    "2. CO2 Emission Grams/Mile "
   ]
  },
  {
   "cell_type": "code",
   "execution_count": 10,
   "metadata": {},
   "outputs": [
    {
     "data": {
      "text/plain": [
       "<matplotlib.axes._subplots.AxesSubplot at 0x114a43d50>"
      ]
     },
     "execution_count": 10,
     "metadata": {},
     "output_type": "execute_result"
    },
    {
     "data": {
      "image/png": "[encoded data removed]",
      "text/plain": [
       "<Figure size 432x288 with 1 Axes>"
      ]
     },
     "metadata": {
      "needs_background": "light"
     },
     "output_type": "display_data"
    }
   ],
   "source": [
    "# your code here\n",
    "vehicles['CO2 Emission Grams/Mile'].hist()"
   ]
  },
  {
   "cell_type": "markdown",
   "metadata": {},
   "source": [
    "3. Combined MPG"
   ]
  },
  {
   "cell_type": "code",
   "execution_count": 11,
   "metadata": {},
   "outputs": [
    {
     "data": {
      "text/plain": [
       "<matplotlib.axes._subplots.AxesSubplot at 0x114c603d0>"
      ]
     },
     "execution_count": 11,
     "metadata": {},
     "output_type": "execute_result"
    },
    {
     "data": {
      "image/png": "[encoded data removed]",
      "text/plain": [
       "<Figure size 432x288 with 1 Axes>"
      ]
     },
     "metadata": {
      "needs_background": "light"
     },
     "output_type": "display_data"
    }
   ],
   "source": [
    "# your code here\n",
    "vehicles['Combined MPG'].hist()"
   ]
  },
  {
   "cell_type": "markdown",
   "metadata": {},
   "source": [
    "Which one(s) of the variables are nearly normally distributed? How do you know?"
   ]
  },
  {
   "cell_type": "code",
   "execution_count": 13,
   "metadata": {},
   "outputs": [
    {
     "data": {
      "text/plain": [
       "count    35952.000000\n",
       "mean       475.316339\n",
       "std        119.060773\n",
       "min         37.000000\n",
       "25%        395.000000\n",
       "50%        467.736842\n",
       "75%        555.437500\n",
       "max       1269.571429\n",
       "Name: CO2 Emission Grams/Mile, dtype: float64"
      ]
     },
     "execution_count": 13,
     "metadata": {},
     "output_type": "execute_result"
    }
   ],
   "source": [
    "# your answer here\n",
    "vehicles['Combined MPG'].describe()\n",
    "vehicles['CO2 Emission Grams/Mile'].describe()"
   ]
  },
  {
   "cell_type": "markdown",
   "metadata": {},
   "source": [
    "'Combined MPG' tiene una distribución normal dado que la media es casi igual al percentil 50 y tenía una desviación estandar de 5, mientras que 'CO2 Emission Grams/Mile' tiene una desviación de 119! y la media es superior al percentil 50."
   ]
  },
  {
   "cell_type": "markdown",
   "metadata": {},
   "source": [
    "## Exponential Distribution"
   ]
  },
  {
   "cell_type": "markdown",
   "metadata": {},
   "source": [
    "1. Using `numpy.random.exponential`, create a function that returns a list of numbers exponentially distributed with the mean of 10. \n",
    "\n",
    "1. Use the function to generate two number sequences with the size of 1 and 100.\n",
    "\n",
    "1. Plot the distributions as histograms with the nubmer of bins as 100.\n",
    "\n",
    "Your output should look like below:\n",
    "\n",
    "![exponential distribution](ed.png)"
   ]
  },
  {
   "cell_type": "code",
   "execution_count": 42,
   "metadata": {},
   "outputs": [
    {
     "data": {
      "text/plain": [
       "(array([9., 5., 5., 3., 2., 1., 7., 1., 0., 1., 2., 4., 2., 5., 2., 1., 0.,\n",
       "        3., 4., 2., 4., 3., 3., 0., 2., 1., 2., 3., 1., 0., 0., 1., 3., 0.,\n",
       "        0., 0., 1., 0., 1., 0., 3., 0., 0., 2., 0., 1., 0., 0., 0., 0., 1.,\n",
       "        0., 0., 0., 0., 0., 1., 0., 0., 0., 3., 0., 0., 0., 0., 1., 1., 0.,\n",
       "        1., 0., 0., 0., 0., 0., 0., 0., 1., 0., 0., 0., 0., 0., 0., 0., 0.,\n",
       "        0., 0., 0., 0., 0., 0., 0., 0., 0., 0., 0., 0., 0., 0., 1.]),\n",
       " array([3.20276320e-02, 5.79107086e-01, 1.12618654e+00, 1.67326599e+00,\n",
       "        2.22034545e+00, 2.76742490e+00, 3.31450436e+00, 3.86158381e+00,\n",
       "        4.40866326e+00, 4.95574272e+00, 5.50282217e+00, 6.04990163e+00,\n",
       "        6.59698108e+00, 7.14406053e+00, 7.69113999e+00, 8.23821944e+00,\n",
       "        8.78529890e+00, 9.33237835e+00, 9.87945780e+00, 1.04265373e+01,\n",
       "        1.09736167e+01, 1.15206962e+01, 1.20677756e+01, 1.26148551e+01,\n",
       "        1.31619345e+01, 1.37090140e+01, 1.42560934e+01, 1.48031729e+01,\n",
       "        1.53502523e+01, 1.58973318e+01, 1.64444113e+01, 1.69914907e+01,\n",
       "        1.75385702e+01, 1.80856496e+01, 1.86327291e+01, 1.91798085e+01,\n",
       "        1.97268880e+01, 2.02739674e+01, 2.08210469e+01, 2.13681263e+01,\n",
       "        2.19152058e+01, 2.24622852e+01, 2.30093647e+01, 2.35564442e+01,\n",
       "        2.41035236e+01, 2.46506031e+01, 2.51976825e+01, 2.57447620e+01,\n",
       "        2.62918414e+01, 2.68389209e+01, 2.73860003e+01, 2.79330798e+01,\n",
       "        2.84801592e+01, 2.90272387e+01, 2.95743181e+01, 3.01213976e+01,\n",
       "        3.06684771e+01, 3.12155565e+01, 3.17626360e+01, 3.23097154e+01,\n",
       "        3.28567949e+01, 3.34038743e+01, 3.39509538e+01, 3.44980332e+01,\n",
       "        3.50451127e+01, 3.55921921e+01, 3.61392716e+01, 3.66863511e+01,\n",
       "        3.72334305e+01, 3.77805100e+01, 3.83275894e+01, 3.88746689e+01,\n",
       "        3.94217483e+01, 3.99688278e+01, 4.05159072e+01, 4.10629867e+01,\n",
       "        4.16100661e+01, 4.21571456e+01, 4.27042250e+01, 4.32513045e+01,\n",
       "        4.37983840e+01, 4.43454634e+01, 4.48925429e+01, 4.54396223e+01,\n",
       "        4.59867018e+01, 4.65337812e+01, 4.70808607e+01, 4.76279401e+01,\n",
       "        4.81750196e+01, 4.87220990e+01, 4.92691785e+01, 4.98162579e+01,\n",
       "        5.03633374e+01, 5.09104169e+01, 5.14574963e+01, 5.20045758e+01,\n",
       "        5.25516552e+01, 5.30987347e+01, 5.36458141e+01, 5.41928936e+01,\n",
       "        5.47399730e+01]),\n",
       " <a list of 100 Patch objects>)"
      ]
     },
     "execution_count": 42,
     "metadata": {},
     "output_type": "execute_result"
    },
    {
     "data": {
      "image/png": "[encoded data removed]",
      "text/plain": [
       "<Figure size 432x288 with 2 Axes>"
      ]
     },
     "metadata": {
      "needs_background": "light"
     },
     "output_type": "display_data"
    }
   ],
   "source": [
    "# your code here\n",
    "import numpy as np\n",
    "\n",
    "def exponencial(mean,count):\n",
    "    numbers = norm.rvs(mean, size=count)\n",
    "    return np.random.exponential(numbers)\n",
    "\n",
    "x5 = exponencial(10,1)\n",
    "x6 = exponencial(10,100)\n",
    "\n",
    "f, (ax5, ax6) = plt.subplots(1,2, sharey=True)\n",
    "\n",
    "ax5.hist(x5,bins=100)\n",
    "ax6.hist(x6,bins=100)\n"
   ]
  },
  {
   "cell_type": "markdown",
   "metadata": {},
   "source": [
    "How are the two distributions different?"
   ]
  },
  {
   "cell_type": "code",
   "execution_count": null,
   "metadata": {},
   "outputs": [],
   "source": [
    "# your answer here"
   ]
  },
  {
   "cell_type": "markdown",
   "metadata": {},
   "source": [
    "## Exponential Distribution of Real Data\n",
    "\n",
    "Suppose that the amount of time one spends in a bank is exponentially distributed with mean as 10 minutes (i.e. λ = 1/10). What is the probability that a customer will spend less than fifteen minutes in the bank? \n",
    "\n",
    "Write a code in python to solve this problem"
   ]
  },
  {
   "cell_type": "code",
   "execution_count": 39,
   "metadata": {},
   "outputs": [
    {
     "name": "stdout",
     "output_type": "stream",
     "text": [
      "0.049787068367863944\n",
      "0.6321205588285577\n",
      "1.7715424322868665\n"
     ]
    },
    {
     "data": {
      "text/plain": [
       "[<matplotlib.lines.Line2D at 0x11679bf50>]"
      ]
     },
     "execution_count": 39,
     "metadata": {},
     "output_type": "execute_result"
    },
    {
     "data": {
      "image/png": "[encoded data removed]",
      "text/plain": [
       "<Figure size 432x288 with 1 Axes>"
      ]
     },
     "metadata": {
      "needs_background": "light"
     },
     "output_type": "display_data"
    }
   ],
   "source": [
    "# your answer here\n",
    "# Hint: This is same as saying P(x<15)\n"
   ]
  },
  {
   "cell_type": "markdown",
   "metadata": {},
   "source": [
    "What is the probability that the customer will spend more than 15 minutes"
   ]
  },
  {
   "cell_type": "code",
   "execution_count": null,
   "metadata": {},
   "outputs": [],
   "source": [
    "# your answer here"
   ]
  },
  {
   "cell_type": "code",
   "execution_count": null,
   "metadata": {},
   "outputs": [],
   "source": []
  }
 ],
 "metadata": {
  "kernelspec": {
   "display_name": "Python 3",
   "language": "python",
   "name": "python3"
  },
  "language_info": {
   "codemirror_mode": {
    "name": "ipython",
    "version": 3
   },
   "file_extension": ".py",
   "mimetype": "text/x-python",
   "name": "python",
   "nbconvert_exporter": "python",
   "pygments_lexer": "ipython3",
   "version": "3.7.4"
  }
 },
 "nbformat": 4,
 "nbformat_minor": 2
}
